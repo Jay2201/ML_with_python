{
 "cells": [
  {
   "cell_type": "markdown",
   "metadata": {},
   "source": [
    "## BigQuery ML experiment with consumer complaint dataset"
   ]
  },
  {
   "cell_type": "markdown",
   "metadata": {},
   "source": [
    "### This experiment aims at evaluating logistic regression using Bigquery ML"
   ]
  },
  {
   "cell_type": "markdown",
   "metadata": {},
   "source": [
    "### The dataset can be downloaded from https://catalog.data.gov/dataset/consumer-complaint-database"
   ]
  },
  {
   "cell_type": "code",
   "execution_count": 65,
   "metadata": {},
   "outputs": [],
   "source": [
    "import pandas as pd\n",
    "from google.cloud import bigquery\n",
    "import numpy as np"
   ]
  },
  {
   "cell_type": "code",
   "execution_count": 73,
   "metadata": {},
   "outputs": [
    {
     "data": {
      "text/html": [
       "<div>\n",
       "<style scoped>\n",
       "    .dataframe tbody tr th:only-of-type {\n",
       "        vertical-align: middle;\n",
       "    }\n",
       "\n",
       "    .dataframe tbody tr th {\n",
       "        vertical-align: top;\n",
       "    }\n",
       "\n",
       "    .dataframe thead th {\n",
       "        text-align: right;\n",
       "    }\n",
       "</style>\n",
       "<table border=\"1\" class=\"dataframe\">\n",
       "  <thead>\n",
       "    <tr style=\"text-align: right;\">\n",
       "      <th></th>\n",
       "      <th>Product</th>\n",
       "      <th>Sub-product</th>\n",
       "      <th>Issue</th>\n",
       "      <th>Sub-issue</th>\n",
       "      <th>Consumer complaint narrative</th>\n",
       "      <th>Company public response</th>\n",
       "      <th>Company</th>\n",
       "      <th>State</th>\n",
       "      <th>ZIP code</th>\n",
       "      <th>Tags</th>\n",
       "      <th>Consumer consent provided?</th>\n",
       "      <th>Submitted via</th>\n",
       "      <th>Date sent to company</th>\n",
       "      <th>Company response to consumer</th>\n",
       "      <th>Timely response?</th>\n",
       "      <th>Consumer disputed?</th>\n",
       "      <th>Complaint ID</th>\n",
       "    </tr>\n",
       "    <tr>\n",
       "      <th>Date received</th>\n",
       "      <th></th>\n",
       "      <th></th>\n",
       "      <th></th>\n",
       "      <th></th>\n",
       "      <th></th>\n",
       "      <th></th>\n",
       "      <th></th>\n",
       "      <th></th>\n",
       "      <th></th>\n",
       "      <th></th>\n",
       "      <th></th>\n",
       "      <th></th>\n",
       "      <th></th>\n",
       "      <th></th>\n",
       "      <th></th>\n",
       "      <th></th>\n",
       "      <th></th>\n",
       "    </tr>\n",
       "  </thead>\n",
       "  <tbody>\n",
       "    <tr>\n",
       "      <th>2014-03-12</th>\n",
       "      <td>Mortgage</td>\n",
       "      <td>Other mortgage</td>\n",
       "      <td>Loan modification,collection,foreclosure</td>\n",
       "      <td>NaN</td>\n",
       "      <td>NaN</td>\n",
       "      <td>NaN</td>\n",
       "      <td>M&amp;T BANK CORPORATION</td>\n",
       "      <td>MI</td>\n",
       "      <td>48382</td>\n",
       "      <td>NaN</td>\n",
       "      <td>NaN</td>\n",
       "      <td>Referral</td>\n",
       "      <td>2014-03-17</td>\n",
       "      <td>Closed with explanation</td>\n",
       "      <td>Yes</td>\n",
       "      <td>No</td>\n",
       "      <td>759217</td>\n",
       "    </tr>\n",
       "    <tr>\n",
       "      <th>2017-01-19</th>\n",
       "      <td>Student loan</td>\n",
       "      <td>Federal student loan servicing</td>\n",
       "      <td>Dealing with my lender or servicer</td>\n",
       "      <td>Received bad information about my loan</td>\n",
       "      <td>When my loan was switched over to Navient i wa...</td>\n",
       "      <td>NaN</td>\n",
       "      <td>Navient Solutions, LLC.</td>\n",
       "      <td>LA</td>\n",
       "      <td>NaN</td>\n",
       "      <td>NaN</td>\n",
       "      <td>Consent provided</td>\n",
       "      <td>Web</td>\n",
       "      <td>2017-01-19</td>\n",
       "      <td>Closed with explanation</td>\n",
       "      <td>Yes</td>\n",
       "      <td>No</td>\n",
       "      <td>2296496</td>\n",
       "    </tr>\n",
       "    <tr>\n",
       "      <th>2018-04-06</th>\n",
       "      <td>Credit card or prepaid card</td>\n",
       "      <td>General-purpose credit card or charge card</td>\n",
       "      <td>Other features, terms, or problems</td>\n",
       "      <td>Other problem</td>\n",
       "      <td>I tried to sign up for a spending monitoring p...</td>\n",
       "      <td>NaN</td>\n",
       "      <td>CAPITAL ONE FINANCIAL CORPORATION</td>\n",
       "      <td>VA</td>\n",
       "      <td>NaN</td>\n",
       "      <td>Older American</td>\n",
       "      <td>Consent provided</td>\n",
       "      <td>Web</td>\n",
       "      <td>2018-04-06</td>\n",
       "      <td>Closed with explanation</td>\n",
       "      <td>Yes</td>\n",
       "      <td>NaN</td>\n",
       "      <td>2866101</td>\n",
       "    </tr>\n",
       "    <tr>\n",
       "      <th>2014-06-08</th>\n",
       "      <td>Credit card</td>\n",
       "      <td>NaN</td>\n",
       "      <td>Bankruptcy</td>\n",
       "      <td>NaN</td>\n",
       "      <td>NaN</td>\n",
       "      <td>NaN</td>\n",
       "      <td>AMERICAN EXPRESS COMPANY</td>\n",
       "      <td>ID</td>\n",
       "      <td>83854</td>\n",
       "      <td>Older American</td>\n",
       "      <td>NaN</td>\n",
       "      <td>Web</td>\n",
       "      <td>2014-06-10</td>\n",
       "      <td>Closed with explanation</td>\n",
       "      <td>Yes</td>\n",
       "      <td>Yes</td>\n",
       "      <td>885638</td>\n",
       "    </tr>\n",
       "    <tr>\n",
       "      <th>2014-09-13</th>\n",
       "      <td>Debt collection</td>\n",
       "      <td>Credit card</td>\n",
       "      <td>Communication tactics</td>\n",
       "      <td>Frequent or repeated calls</td>\n",
       "      <td>NaN</td>\n",
       "      <td>NaN</td>\n",
       "      <td>CITIBANK, N.A.</td>\n",
       "      <td>VA</td>\n",
       "      <td>23233</td>\n",
       "      <td>NaN</td>\n",
       "      <td>NaN</td>\n",
       "      <td>Web</td>\n",
       "      <td>2014-09-13</td>\n",
       "      <td>Closed with explanation</td>\n",
       "      <td>Yes</td>\n",
       "      <td>Yes</td>\n",
       "      <td>1027760</td>\n",
       "    </tr>\n",
       "  </tbody>\n",
       "</table>\n",
       "</div>"
      ],
      "text/plain": [
       "                                   Product  \\\n",
       "Date received                                \n",
       "2014-03-12                        Mortgage   \n",
       "2017-01-19                    Student loan   \n",
       "2018-04-06     Credit card or prepaid card   \n",
       "2014-06-08                     Credit card   \n",
       "2014-09-13                 Debt collection   \n",
       "\n",
       "                                              Sub-product  \\\n",
       "Date received                                               \n",
       "2014-03-12                                 Other mortgage   \n",
       "2017-01-19                 Federal student loan servicing   \n",
       "2018-04-06     General-purpose credit card or charge card   \n",
       "2014-06-08                                            NaN   \n",
       "2014-09-13                                    Credit card   \n",
       "\n",
       "                                                  Issue  \\\n",
       "Date received                                             \n",
       "2014-03-12     Loan modification,collection,foreclosure   \n",
       "2017-01-19           Dealing with my lender or servicer   \n",
       "2018-04-06           Other features, terms, or problems   \n",
       "2014-06-08                                   Bankruptcy   \n",
       "2014-09-13                        Communication tactics   \n",
       "\n",
       "                                            Sub-issue  \\\n",
       "Date received                                           \n",
       "2014-03-12                                        NaN   \n",
       "2017-01-19     Received bad information about my loan   \n",
       "2018-04-06                              Other problem   \n",
       "2014-06-08                                        NaN   \n",
       "2014-09-13                 Frequent or repeated calls   \n",
       "\n",
       "                                    Consumer complaint narrative  \\\n",
       "Date received                                                      \n",
       "2014-03-12                                                   NaN   \n",
       "2017-01-19     When my loan was switched over to Navient i wa...   \n",
       "2018-04-06     I tried to sign up for a spending monitoring p...   \n",
       "2014-06-08                                                   NaN   \n",
       "2014-09-13                                                   NaN   \n",
       "\n",
       "              Company public response                            Company  \\\n",
       "Date received                                                              \n",
       "2014-03-12                        NaN               M&T BANK CORPORATION   \n",
       "2017-01-19                        NaN            Navient Solutions, LLC.   \n",
       "2018-04-06                        NaN  CAPITAL ONE FINANCIAL CORPORATION   \n",
       "2014-06-08                        NaN           AMERICAN EXPRESS COMPANY   \n",
       "2014-09-13                        NaN                     CITIBANK, N.A.   \n",
       "\n",
       "              State ZIP code            Tags Consumer consent provided?  \\\n",
       "Date received                                                             \n",
       "2014-03-12       MI    48382             NaN                        NaN   \n",
       "2017-01-19       LA      NaN             NaN           Consent provided   \n",
       "2018-04-06       VA      NaN  Older American           Consent provided   \n",
       "2014-06-08       ID    83854  Older American                        NaN   \n",
       "2014-09-13       VA    23233             NaN                        NaN   \n",
       "\n",
       "              Submitted via Date sent to company Company response to consumer  \\\n",
       "Date received                                                                   \n",
       "2014-03-12         Referral           2014-03-17      Closed with explanation   \n",
       "2017-01-19              Web           2017-01-19      Closed with explanation   \n",
       "2018-04-06              Web           2018-04-06      Closed with explanation   \n",
       "2014-06-08              Web           2014-06-10      Closed with explanation   \n",
       "2014-09-13              Web           2014-09-13      Closed with explanation   \n",
       "\n",
       "              Timely response? Consumer disputed?  Complaint ID  \n",
       "Date received                                                    \n",
       "2014-03-12                 Yes                 No        759217  \n",
       "2017-01-19                 Yes                 No       2296496  \n",
       "2018-04-06                 Yes                NaN       2866101  \n",
       "2014-06-08                 Yes                Yes        885638  \n",
       "2014-09-13                 Yes                Yes       1027760  "
      ]
     },
     "execution_count": 73,
     "metadata": {},
     "output_type": "execute_result"
    }
   ],
   "source": [
    "consumer_complaints_df = pd.read_csv(\"Consumer_Complaints.csv\",parse_dates=[0,13]).set_index(\"Date received\")\n",
    "consumer_complaints_df.head()"
   ]
  },
  {
   "cell_type": "code",
   "execution_count": 74,
   "metadata": {},
   "outputs": [
    {
     "name": "stdout",
     "output_type": "stream",
     "text": [
      "1164859\n",
      "2011-12-01 00:00:00\n",
      "2018-11-20 00:00:00\n",
      "1164859\n"
     ]
    }
   ],
   "source": [
    "print(consumer_complaints_df.shape[0])\n",
    "print (consumer_complaints_df.index.min())\n",
    "print (consumer_complaints_df.index.max())\n",
    "print(consumer_complaints_df.shape[0])"
   ]
  },
  {
   "cell_type": "code",
   "execution_count": 76,
   "metadata": {},
   "outputs": [
    {
     "name": "stdout",
     "output_type": "stream",
     "text": [
      "341828\n"
     ]
    },
    {
     "data": {
      "text/html": [
       "<div>\n",
       "<style scoped>\n",
       "    .dataframe tbody tr th:only-of-type {\n",
       "        vertical-align: middle;\n",
       "    }\n",
       "\n",
       "    .dataframe tbody tr th {\n",
       "        vertical-align: top;\n",
       "    }\n",
       "\n",
       "    .dataframe thead th {\n",
       "        text-align: right;\n",
       "    }\n",
       "</style>\n",
       "<table border=\"1\" class=\"dataframe\">\n",
       "  <thead>\n",
       "    <tr style=\"text-align: right;\">\n",
       "      <th></th>\n",
       "      <th>Product</th>\n",
       "      <th>Sub-product</th>\n",
       "      <th>Issue</th>\n",
       "      <th>Sub-issue</th>\n",
       "      <th>Consumer complaint narrative</th>\n",
       "      <th>Company public response</th>\n",
       "      <th>Company</th>\n",
       "      <th>State</th>\n",
       "      <th>ZIP code</th>\n",
       "      <th>Tags</th>\n",
       "      <th>Consumer consent provided?</th>\n",
       "      <th>Submitted via</th>\n",
       "      <th>Date sent to company</th>\n",
       "      <th>Company response to consumer</th>\n",
       "      <th>Timely response?</th>\n",
       "      <th>Consumer disputed?</th>\n",
       "      <th>Complaint ID</th>\n",
       "    </tr>\n",
       "    <tr>\n",
       "      <th>Date received</th>\n",
       "      <th></th>\n",
       "      <th></th>\n",
       "      <th></th>\n",
       "      <th></th>\n",
       "      <th></th>\n",
       "      <th></th>\n",
       "      <th></th>\n",
       "      <th></th>\n",
       "      <th></th>\n",
       "      <th></th>\n",
       "      <th></th>\n",
       "      <th></th>\n",
       "      <th></th>\n",
       "      <th></th>\n",
       "      <th></th>\n",
       "      <th></th>\n",
       "      <th></th>\n",
       "    </tr>\n",
       "  </thead>\n",
       "  <tbody>\n",
       "    <tr>\n",
       "      <th>2017-01-19</th>\n",
       "      <td>Student loan</td>\n",
       "      <td>Federal student loan servicing</td>\n",
       "      <td>Dealing with my lender or servicer</td>\n",
       "      <td>Received bad information about my loan</td>\n",
       "      <td>When my loan was switched over to Navient i wa...</td>\n",
       "      <td>NaN</td>\n",
       "      <td>Navient Solutions, LLC.</td>\n",
       "      <td>LA</td>\n",
       "      <td>NaN</td>\n",
       "      <td>NaN</td>\n",
       "      <td>Consent provided</td>\n",
       "      <td>Web</td>\n",
       "      <td>2017-01-19</td>\n",
       "      <td>Closed with explanation</td>\n",
       "      <td>Yes</td>\n",
       "      <td>No</td>\n",
       "      <td>2296496</td>\n",
       "    </tr>\n",
       "    <tr>\n",
       "      <th>2018-04-06</th>\n",
       "      <td>Credit card or prepaid card</td>\n",
       "      <td>General-purpose credit card or charge card</td>\n",
       "      <td>Other features, terms, or problems</td>\n",
       "      <td>Other problem</td>\n",
       "      <td>I tried to sign up for a spending monitoring p...</td>\n",
       "      <td>NaN</td>\n",
       "      <td>CAPITAL ONE FINANCIAL CORPORATION</td>\n",
       "      <td>VA</td>\n",
       "      <td>NaN</td>\n",
       "      <td>Older American</td>\n",
       "      <td>Consent provided</td>\n",
       "      <td>Web</td>\n",
       "      <td>2018-04-06</td>\n",
       "      <td>Closed with explanation</td>\n",
       "      <td>Yes</td>\n",
       "      <td>NaN</td>\n",
       "      <td>2866101</td>\n",
       "    </tr>\n",
       "    <tr>\n",
       "      <th>2018-08-22</th>\n",
       "      <td>Mortgage</td>\n",
       "      <td>Conventional home mortgage</td>\n",
       "      <td>Trouble during payment process</td>\n",
       "      <td>NaN</td>\n",
       "      <td>My mortgage is with BB &amp; T Bank, recently I ha...</td>\n",
       "      <td>Company has responded to the consumer and the ...</td>\n",
       "      <td>BB&amp;T CORPORATION</td>\n",
       "      <td>IN</td>\n",
       "      <td>NaN</td>\n",
       "      <td>NaN</td>\n",
       "      <td>Consent provided</td>\n",
       "      <td>Web</td>\n",
       "      <td>2018-08-22</td>\n",
       "      <td>Closed with explanation</td>\n",
       "      <td>Yes</td>\n",
       "      <td>NaN</td>\n",
       "      <td>2998686</td>\n",
       "    </tr>\n",
       "    <tr>\n",
       "      <th>2016-11-14</th>\n",
       "      <td>Mortgage</td>\n",
       "      <td>Conventional fixed mortgage</td>\n",
       "      <td>Credit decision / Underwriting</td>\n",
       "      <td>NaN</td>\n",
       "      <td>The entire lending experience with Citizens Ba...</td>\n",
       "      <td>NaN</td>\n",
       "      <td>CITIZENS FINANCIAL GROUP, INC.</td>\n",
       "      <td>NY</td>\n",
       "      <td>12054</td>\n",
       "      <td>NaN</td>\n",
       "      <td>Consent provided</td>\n",
       "      <td>Web</td>\n",
       "      <td>2016-11-14</td>\n",
       "      <td>Closed with explanation</td>\n",
       "      <td>Yes</td>\n",
       "      <td>No</td>\n",
       "      <td>2207648</td>\n",
       "    </tr>\n",
       "    <tr>\n",
       "      <th>2017-04-17</th>\n",
       "      <td>Credit reporting</td>\n",
       "      <td>NaN</td>\n",
       "      <td>Credit reporting company's investigation</td>\n",
       "      <td>Inadequate help over the phone</td>\n",
       "      <td>My credit score has gone down XXXX points in t...</td>\n",
       "      <td>Company has responded to the consumer and the ...</td>\n",
       "      <td>Experian Information Solutions Inc.</td>\n",
       "      <td>FL</td>\n",
       "      <td>32461</td>\n",
       "      <td>NaN</td>\n",
       "      <td>Consent provided</td>\n",
       "      <td>Web</td>\n",
       "      <td>2017-04-17</td>\n",
       "      <td>Closed with explanation</td>\n",
       "      <td>Yes</td>\n",
       "      <td>No</td>\n",
       "      <td>2437591</td>\n",
       "    </tr>\n",
       "  </tbody>\n",
       "</table>\n",
       "</div>"
      ],
      "text/plain": [
       "                                   Product  \\\n",
       "Date received                                \n",
       "2017-01-19                    Student loan   \n",
       "2018-04-06     Credit card or prepaid card   \n",
       "2018-08-22                        Mortgage   \n",
       "2016-11-14                        Mortgage   \n",
       "2017-04-17                Credit reporting   \n",
       "\n",
       "                                              Sub-product  \\\n",
       "Date received                                               \n",
       "2017-01-19                 Federal student loan servicing   \n",
       "2018-04-06     General-purpose credit card or charge card   \n",
       "2018-08-22                     Conventional home mortgage   \n",
       "2016-11-14                    Conventional fixed mortgage   \n",
       "2017-04-17                                            NaN   \n",
       "\n",
       "                                                  Issue  \\\n",
       "Date received                                             \n",
       "2017-01-19           Dealing with my lender or servicer   \n",
       "2018-04-06           Other features, terms, or problems   \n",
       "2018-08-22               Trouble during payment process   \n",
       "2016-11-14               Credit decision / Underwriting   \n",
       "2017-04-17     Credit reporting company's investigation   \n",
       "\n",
       "                                            Sub-issue  \\\n",
       "Date received                                           \n",
       "2017-01-19     Received bad information about my loan   \n",
       "2018-04-06                              Other problem   \n",
       "2018-08-22                                        NaN   \n",
       "2016-11-14                                        NaN   \n",
       "2017-04-17             Inadequate help over the phone   \n",
       "\n",
       "                                    Consumer complaint narrative  \\\n",
       "Date received                                                      \n",
       "2017-01-19     When my loan was switched over to Navient i wa...   \n",
       "2018-04-06     I tried to sign up for a spending monitoring p...   \n",
       "2018-08-22     My mortgage is with BB & T Bank, recently I ha...   \n",
       "2016-11-14     The entire lending experience with Citizens Ba...   \n",
       "2017-04-17     My credit score has gone down XXXX points in t...   \n",
       "\n",
       "                                         Company public response  \\\n",
       "Date received                                                      \n",
       "2017-01-19                                                   NaN   \n",
       "2018-04-06                                                   NaN   \n",
       "2018-08-22     Company has responded to the consumer and the ...   \n",
       "2016-11-14                                                   NaN   \n",
       "2017-04-17     Company has responded to the consumer and the ...   \n",
       "\n",
       "                                           Company State ZIP code  \\\n",
       "Date received                                                       \n",
       "2017-01-19                 Navient Solutions, LLC.    LA      NaN   \n",
       "2018-04-06       CAPITAL ONE FINANCIAL CORPORATION    VA      NaN   \n",
       "2018-08-22                        BB&T CORPORATION    IN      NaN   \n",
       "2016-11-14          CITIZENS FINANCIAL GROUP, INC.    NY    12054   \n",
       "2017-04-17     Experian Information Solutions Inc.    FL    32461   \n",
       "\n",
       "                         Tags Consumer consent provided? Submitted via  \\\n",
       "Date received                                                            \n",
       "2017-01-19                NaN           Consent provided           Web   \n",
       "2018-04-06     Older American           Consent provided           Web   \n",
       "2018-08-22                NaN           Consent provided           Web   \n",
       "2016-11-14                NaN           Consent provided           Web   \n",
       "2017-04-17                NaN           Consent provided           Web   \n",
       "\n",
       "              Date sent to company Company response to consumer  \\\n",
       "Date received                                                     \n",
       "2017-01-19              2017-01-19      Closed with explanation   \n",
       "2018-04-06              2018-04-06      Closed with explanation   \n",
       "2018-08-22              2018-08-22      Closed with explanation   \n",
       "2016-11-14              2016-11-14      Closed with explanation   \n",
       "2017-04-17              2017-04-17      Closed with explanation   \n",
       "\n",
       "              Timely response? Consumer disputed?  Complaint ID  \n",
       "Date received                                                    \n",
       "2017-01-19                 Yes                 No       2296496  \n",
       "2018-04-06                 Yes                NaN       2866101  \n",
       "2018-08-22                 Yes                NaN       2998686  \n",
       "2016-11-14                 Yes                 No       2207648  \n",
       "2017-04-17                 Yes                 No       2437591  "
      ]
     },
     "execution_count": 76,
     "metadata": {},
     "output_type": "execute_result"
    }
   ],
   "source": [
    "consumer_complaints_without_nan = consumer_complaints_df[consumer_complaints_df[\"Consumer complaint narrative\"].notnull()]\n",
    "print(consumer_complaints_without_nan.shape[0])\n",
    "consumer_complaints_without_nan.head()"
   ]
  },
  {
   "cell_type": "markdown",
   "metadata": {},
   "source": [
    "### Printing unique labels"
   ]
  },
  {
   "cell_type": "code",
   "execution_count": 91,
   "metadata": {},
   "outputs": [
    {
     "data": {
      "text/plain": [
       "array(['Student loan', 'Credit card or prepaid card', 'Mortgage',\n",
       "       'Credit reporting',\n",
       "       'Credit reporting, credit repair services, or other personal consumer reports',\n",
       "       'Debt collection', 'Vehicle loan or lease',\n",
       "       'Money transfer, virtual currency, or money service',\n",
       "       'Checking or savings account',\n",
       "       'Payday loan, title loan, or personal loan', 'Consumer Loan',\n",
       "       'Bank account or service', 'Credit card', 'Money transfers',\n",
       "       'Prepaid card', 'Payday loan', 'Other financial service',\n",
       "       'Virtual currency'], dtype=object)"
      ]
     },
     "execution_count": 91,
     "metadata": {},
     "output_type": "execute_result"
    }
   ],
   "source": [
    "consumer_complaints_without_nan[\"Product\"].unique()"
   ]
  },
  {
   "cell_type": "markdown",
   "metadata": {},
   "source": [
    "### Number of records in training and test set"
   ]
  },
  {
   "cell_type": "code",
   "execution_count": 80,
   "metadata": {},
   "outputs": [
    {
     "name": "stdout",
     "output_type": "stream",
     "text": [
      "238542\n"
     ]
    }
   ],
   "source": [
    "train_set = consumer_complaints_without_nan[( consumer_complaints_without_nan.index <= \"2017-11-30 00:00:00\" )]\n",
    "\n",
    "print(train_set.shape[0])\n"
   ]
  },
  {
   "cell_type": "code",
   "execution_count": 82,
   "metadata": {},
   "outputs": [
    {
     "name": "stdout",
     "output_type": "stream",
     "text": [
      "103286\n"
     ]
    }
   ],
   "source": [
    "test_set = consumer_complaints_without_nan[consumer_complaints_without_nan.index > \"2017-11-30 00:00:00\"]\n",
    "print(test_set.shape[0])"
   ]
  },
  {
   "cell_type": "markdown",
   "metadata": {},
   "source": [
    "## Loading data in Bigquery"
   ]
  },
  {
   "cell_type": "code",
   "execution_count": 37,
   "metadata": {},
   "outputs": [],
   "source": [
    "client = bigquery.Client.from_service_account_json(\n",
    "    '<path to service account.json file>')"
   ]
  },
  {
   "cell_type": "code",
   "execution_count": 38,
   "metadata": {},
   "outputs": [],
   "source": [
    "dataset_id = 'bigquery_demo'\n",
    "table_id = 'consumer_complaint'"
   ]
  },
  {
   "cell_type": "code",
   "execution_count": 39,
   "metadata": {},
   "outputs": [],
   "source": [
    "dataset_ref = client.dataset(dataset_id)\n",
    "dataset = client.get_dataset(dataset_ref)\n",
    "table_ref = dataset_ref.table(table_id)"
   ]
  },
  {
   "cell_type": "code",
   "execution_count": 40,
   "metadata": {},
   "outputs": [],
   "source": [
    "job_config = bigquery.LoadJobConfig()\n",
    "job_config.source_format = bigquery.SourceFormat.CSV\n",
    "job_config.skip_leading_rows = 1\n",
    "job_config.autodetect = True"
   ]
  },
  {
   "cell_type": "code",
   "execution_count": 41,
   "metadata": {},
   "outputs": [
    {
     "name": "stdout",
     "output_type": "stream",
     "text": [
      "Dataset ID: bigquery_demo\n",
      "Description: None\n"
     ]
    }
   ],
   "source": [
    "print('Dataset ID: {}'.format(dataset_id))\n",
    "print('Description: {}'.format(dataset.description))"
   ]
  },
  {
   "cell_type": "markdown",
   "metadata": {},
   "source": [
    "### Insert data in Bigquery from Pandas dataframe"
   ]
  },
  {
   "cell_type": "code",
   "execution_count": 30,
   "metadata": {},
   "outputs": [
    {
     "data": {
      "text/plain": [
       "<google.cloud.bigquery.job.LoadJob at 0x7f2a74ebe6d8>"
      ]
     },
     "execution_count": 30,
     "metadata": {},
     "output_type": "execute_result"
    }
   ],
   "source": [
    "job = client.load_table_from_dataframe(consumer_complaints_df, table_ref, location='EU')\n",
    "job.result()"
   ]
  },
  {
   "cell_type": "markdown",
   "metadata": {},
   "source": [
    "### Train a multi class logistic regression classifier"
   ]
  },
  {
   "cell_type": "code",
   "execution_count": 84,
   "metadata": {},
   "outputs": [
    {
     "name": "stdout",
     "output_type": "stream",
     "text": [
      "Empty DataFrame\n",
      "Columns: []\n",
      "Index: []\n"
     ]
    }
   ],
   "source": [
    "# Train a model\n",
    "train_query = \"\"\"\n",
    "    create or replace model\n",
    "    `bigquery_demo.consumer_complaint_model`\n",
    "     options\n",
    "      ( model_type='logistic_reg',\n",
    "        auto_class_weights=true,\n",
    "        input_label_cols=['Product'],\n",
    "        max_iterations=10) AS\n",
    "     select \n",
    "     Product, Consumer_complaint_narrative \n",
    "     from `bigquery_demo.consumer_complaint`\n",
    "     where Consumer_complaint_narrative is not null\n",
    "     and Date_received <= \"2017-11-30 00:00:00\"\n",
    "     limit 100000\n",
    "    \"\"\"\n",
    "training_job = client.query(train_query).to_dataframe()\n",
    "print(training_job) "
   ]
  },
  {
   "cell_type": "markdown",
   "metadata": {},
   "source": [
    "### Get training info of the model"
   ]
  },
  {
   "cell_type": "code",
   "execution_count": 85,
   "metadata": {},
   "outputs": [
    {
     "name": "stdout",
     "output_type": "stream",
     "text": [
      "   training_run  iteration      loss  eval_loss  duration_ms  learning_rate\n",
      "0             0          1  0.137454   0.160068       111464            0.4\n",
      "1             0          0  0.151364   0.160474        95644            0.2\n"
     ]
    }
   ],
   "source": [
    "training_info = \"\"\"\n",
    "    select\n",
    "      *\n",
    "    from\n",
    "      ML.TRAINING_INFO(MODEL `bigquery_demo.consumer_complaint_model`)\n",
    "    \"\"\"\n",
    "\n",
    "training_info_job = client.query(training_info).to_dataframe()\n",
    "print(training_info_job)"
   ]
  },
  {
   "cell_type": "markdown",
   "metadata": {},
   "source": [
    "### Evaluate the trained model"
   ]
  },
  {
   "cell_type": "code",
   "execution_count": 86,
   "metadata": {},
   "outputs": [
    {
     "name": "stdout",
     "output_type": "stream",
     "text": [
      "   precision  recall  accuracy  f1_score  log_loss   roc_auc\n",
      "0        NaN     NaN  0.223612       NaN  2.889783  0.000723\n"
     ]
    }
   ],
   "source": [
    "# perform evaluation\n",
    "query_evaluate = \"\"\"\n",
    "    select \n",
    "      * \n",
    "    from ML.EVALUATE (MODEL `bigquery_demo.consumer_complaint_model`, \n",
    "      (\n",
    "        select \n",
    "        Product, Consumer_complaint_narrative \n",
    "        from `bigquery_demo.consumer_complaint`\n",
    "        where Consumer_complaint_narrative is not null\n",
    "        and Date_received > \"2017-11-30 00:00:00\"\n",
    "      ))\n",
    "    \"\"\"\n",
    "\n",
    "evaluation_job = client.query(query_evaluate).to_dataframe()\n",
    "print(evaluation_job) "
   ]
  },
  {
   "cell_type": "markdown",
   "metadata": {},
   "source": [
    "### Get predictions from the model"
   ]
  },
  {
   "cell_type": "code",
   "execution_count": 87,
   "metadata": {},
   "outputs": [
    {
     "data": {
      "text/html": [
       "<div>\n",
       "<style scoped>\n",
       "    .dataframe tbody tr th:only-of-type {\n",
       "        vertical-align: middle;\n",
       "    }\n",
       "\n",
       "    .dataframe tbody tr th {\n",
       "        vertical-align: top;\n",
       "    }\n",
       "\n",
       "    .dataframe thead th {\n",
       "        text-align: right;\n",
       "    }\n",
       "</style>\n",
       "<table border=\"1\" class=\"dataframe\">\n",
       "  <thead>\n",
       "    <tr style=\"text-align: right;\">\n",
       "      <th></th>\n",
       "      <th>predicted_Product</th>\n",
       "      <th>predicted_Product_probs</th>\n",
       "      <th>Consumer_complaint_narrative</th>\n",
       "    </tr>\n",
       "  </thead>\n",
       "  <tbody>\n",
       "    <tr>\n",
       "      <th>0</th>\n",
       "      <td>Student loan</td>\n",
       "      <td>[{'label': 'Student loan', 'prob': 0.062743874...</td>\n",
       "      <td>When my loan was switched over to Navient i wa...</td>\n",
       "    </tr>\n",
       "    <tr>\n",
       "      <th>1</th>\n",
       "      <td>Debt collection</td>\n",
       "      <td>[{'label': 'Debt collection', 'prob': 0.055613...</td>\n",
       "      <td>I tried to sign up for a spending monitoring p...</td>\n",
       "    </tr>\n",
       "  </tbody>\n",
       "</table>\n",
       "</div>"
      ],
      "text/plain": [
       "  predicted_Product                            predicted_Product_probs  \\\n",
       "0      Student loan  [{'label': 'Student loan', 'prob': 0.062743874...   \n",
       "1   Debt collection  [{'label': 'Debt collection', 'prob': 0.055613...   \n",
       "\n",
       "                        Consumer_complaint_narrative  \n",
       "0  When my loan was switched over to Navient i wa...  \n",
       "1  I tried to sign up for a spending monitoring p...  "
      ]
     },
     "execution_count": 87,
     "metadata": {},
     "output_type": "execute_result"
    }
   ],
   "source": [
    "# perform prediction\n",
    "query_predict = \"\"\"\n",
    "    select \n",
    "      *\n",
    "    from ML.PREDICT (MODEL `bigquery_demo.consumer_complaint_model`,\n",
    "      (\n",
    "        select \n",
    "        Consumer_complaint_narrative \n",
    "        from `bigquery_demo.consumer_complaint`\n",
    "        where Consumer_complaint_narrative is not null\n",
    "        limit 2))\n",
    "    \"\"\"\n",
    "prediction_job = client.query(query_predict).to_dataframe()\n",
    "prediction_job.head() "
   ]
  },
  {
   "cell_type": "markdown",
   "metadata": {},
   "source": [
    "### Probability distribution over all categories"
   ]
  },
  {
   "cell_type": "code",
   "execution_count": 89,
   "metadata": {},
   "outputs": [
    {
     "data": {
      "text/plain": [
       "[{'label': 'Student loan', 'prob': 0.06274387450241385},\n",
       " {'label': 'Debt collection', 'prob': 0.055192922390363434},\n",
       " {'label': 'Mortgage', 'prob': 0.055192589285376285},\n",
       " {'label': 'Credit reporting, credit repair services, or other personal consumer reports',\n",
       "  'prob': 0.05519233083191825},\n",
       " {'label': 'Credit reporting', 'prob': 0.05519228276731627},\n",
       " {'label': 'Credit card', 'prob': 0.055191214614702826},\n",
       " {'label': 'Bank account or service', 'prob': 0.05519028700813079},\n",
       " {'label': 'Consumer Loan', 'prob': 0.05518841165685301},\n",
       " {'label': 'Credit card or prepaid card', 'prob': 0.05518574536003181},\n",
       " {'label': 'Checking or savings account', 'prob': 0.05517919845154978},\n",
       " {'label': 'Payday loan', 'prob': 0.05514652147326096},\n",
       " {'label': 'Vehicle loan or lease', 'prob': 0.055144268681504065},\n",
       " {'label': 'Prepaid card', 'prob': 0.055125338429545936},\n",
       " {'label': 'Money transfers', 'prob': 0.05512330302485571},\n",
       " {'label': 'Payday loan, title loan, or personal loan',\n",
       "  'prob': 0.055117501410639015},\n",
       " {'label': 'Money transfer, virtual currency, or money service',\n",
       "  'prob': 0.05511715201356102},\n",
       " {'label': 'Other financial service', 'prob': 0.054888985567022444},\n",
       " {'label': 'Virtual currency', 'prob': 0.05488807253095454}]"
      ]
     },
     "execution_count": 89,
     "metadata": {},
     "output_type": "execute_result"
    }
   ],
   "source": [
    "prediction_job[\"predicted_Product_probs\"][0]"
   ]
  },
  {
   "cell_type": "code",
   "execution_count": 90,
   "metadata": {},
   "outputs": [
    {
     "data": {
      "text/plain": [
       "[{'label': 'Debt collection', 'prob': 0.055613002036629555},\n",
       " {'label': 'Mortgage', 'prob': 0.0556126663455983},\n",
       " {'label': 'Credit reporting, credit repair services, or other personal consumer reports',\n",
       "  'prob': 0.05561240588556867},\n",
       " {'label': 'Credit reporting', 'prob': 0.05561235744779669},\n",
       " {'label': 'Credit card', 'prob': 0.05561128100149434},\n",
       " {'label': 'Student loan', 'prob': 0.05561057833076534},\n",
       " {'label': 'Bank account or service', 'prob': 0.05561034619152554},\n",
       " {'label': 'Consumer Loan', 'prob': 0.05560845627428762},\n",
       " {'label': 'Credit card or prepaid card', 'prob': 0.05560576926177735},\n",
       " {'label': 'Checking or savings account', 'prob': 0.05559917145541681},\n",
       " {'label': 'Payday loan', 'prob': 0.05556623975678285},\n",
       " {'label': 'Vehicle loan or lease', 'prob': 0.05556396936263171},\n",
       " {'label': 'Prepaid card', 'prob': 0.0555448909851409},\n",
       " {'label': 'Money transfers', 'prob': 0.055542839631215056},\n",
       " {'label': 'Payday loan, title loan, or personal loan',\n",
       "  'prob': 0.05553699253203684},\n",
       " {'label': 'Money transfer, virtual currency, or money service',\n",
       "  'prob': 0.055536640394529595},\n",
       " {'label': 'Other financial service', 'prob': 0.055306656762656205},\n",
       " {'label': 'Virtual currency', 'prob': 0.05530573634414672}]"
      ]
     },
     "execution_count": 90,
     "metadata": {},
     "output_type": "execute_result"
    }
   ],
   "source": [
    "prediction_job[\"predicted_Product_probs\"][1]"
   ]
  },
  {
   "cell_type": "code",
   "execution_count": null,
   "metadata": {},
   "outputs": [],
   "source": []
  }
 ],
 "metadata": {
  "kernelspec": {
   "display_name": "Python 3",
   "language": "python",
   "name": "python3"
  },
  "language_info": {
   "codemirror_mode": {
    "name": "ipython",
    "version": 3
   },
   "file_extension": ".py",
   "mimetype": "text/x-python",
   "name": "python",
   "nbconvert_exporter": "python",
   "pygments_lexer": "ipython3",
   "version": "3.7.0"
  }
 },
 "nbformat": 4,
 "nbformat_minor": 2
}
